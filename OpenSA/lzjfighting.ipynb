{
 "cells": [
  {
   "cell_type": "code",
   "execution_count": 1,
   "metadata": {},
   "outputs": [],
   "source": [
    "\"\"\"\n",
    "    -*- coding: utf-8 -*-\n",
    "    @Time   :2022/04/12 17:10\n",
    "    @Author : Pengyou FU\n",
    "    @blogs  : https://blog.csdn.net/Echo_Code?spm=1000.2115.3001.5343\n",
    "    @github : https://github.com/FuSiry/OpenSA\n",
    "    @WeChat : Fu_siry\n",
    "    @License：Apache-2.0 license\n",
    "\n",
    "\"\"\"\n",
    "\n",
    "\n",
    "from time import sleep\n",
    "import numpy as np\n",
    "from sklearn.model_selection import train_test_split\n",
    "from DataLoad.DataLoad import SetSplit, LoadNirtest\n",
    "from Preprocessing.Preprocessing import Preprocessing\n",
    "from WaveSelect.WaveSelcet import SpctrumFeatureSelcet\n",
    "# from Plot.SpectrumPlot import plotspc\n",
    "# from Plot.SpectrumPlot import ClusterPlot\n",
    "from Simcalculation.SimCa import Simcalculation\n",
    "from Clustering.Cluster import Cluster\n",
    "from Regression.Rgs import QuantitativeAnalysis\n",
    "from Classification.Cls import QualitativeAnalysis\n",
    "from lazypredict.Supervised import LazyClassifier\n",
    "from lazypredict.Supervised import LazyRegressor\n",
    "import airpls\n",
    "import matplotlib.pyplot as plt#导入强大的绘图库\n",
    "\n"
   ]
  },
  {
   "cell_type": "code",
   "execution_count": 2,
   "metadata": {},
   "outputs": [],
   "source": [
    "#光谱聚类分析\n",
    "def SpectralClusterAnalysis(data, label, ProcessMethods, FslecetedMethods, ClusterMethods):\n",
    "    \"\"\"\n",
    "     :param data: shape (n_samples, n_features), 光谱数据\n",
    "     :param label: shape (n_samples, ), 光谱数据对应的标签(理化性质)\n",
    "     :param ProcessMethods: string, 预处理的方法, 具体可以看预处理模块\n",
    "     :param FslecetedMethods: string, 光谱波长筛选的方法, 提供UVE、SPA、Lars、Cars、Pca\n",
    "     :param ClusterMethods : string, 聚类的方法，提供Kmeans聚类、FCM聚类\n",
    "     :return: Clusterlabels: 返回的隶属矩阵\n",
    "\n",
    "     \"\"\"\n",
    "    ProcesedData = Preprocessing(ProcessMethods, data)\n",
    "    FeatrueData, _ = SpctrumFeatureSelcet(FslecetedMethods, ProcesedData, label)\n",
    "    Clusterlabels = Cluster(ClusterMethods, FeatrueData)\n",
    "    #ClusterPlot(data, Clusterlabels)\n",
    "    return Clusterlabels\n",
    "\n",
    "# 光谱定量分析\n",
    "def SpectralQuantitativeAnalysis(data, label, ProcessMethods, FslecetedMethods, SetSplitMethods, model):\n",
    "\n",
    "    \"\"\"\n",
    "    :param data: shape (n_samples, n_features), 光谱数据\n",
    "    :param label: shape (n_samples, ), 光谱数据对应的标签(理化性质)\n",
    "    :param ProcessMethods: string, 预处理的方法, 具体可以看预处理模块\n",
    "    :param FslecetedMethods: string, 光谱波长筛选的方法, 提供UVE、SPA、Lars、Cars、Pca\n",
    "    :param SetSplitMethods : string, 划分数据集的方法, 提供随机划分、KS划分、SPXY划分\n",
    "    :param model : string, 定量分析模型, 包括ANN、PLS、SVR、ELM、CNN、SAE等，后续会不断补充完整\n",
    "    :return: Rmse: float, Rmse回归误差评估指标\n",
    "             R2: float, 回归拟合,\n",
    "             Mae: float, Mae回归误差评估指标\n",
    "    \"\"\"\n",
    "    # 要看效果好不好，如果效果不好，就不去基线了\n",
    "    # for i in range(data.shape[0]):\n",
    "    #     data[i] = airpls.airPLS_deBase(data[i])\n",
    "    # print(\"-----------去基线成功----------------\")\n",
    "    ProcesedData = Preprocessing(ProcessMethods, data)\n",
    "    FeatrueData, labels = SpctrumFeatureSelcet(FslecetedMethods, ProcesedData, label)\n",
    "    # print(\"---------------------------------------\")\n",
    "    # print(FeatrueData.shape)\n",
    "    # print(labels.shape)\n",
    "    # print(\"---------------------------------------\")\n",
    "\n",
    "    # sleep(100)\n",
    "    # 将特征值从很多很多降到了固定的 x个               def Pca(X, nums=20):\n",
    "    X_train, X_test, y_train, y_test = SetSplit(SetSplitMethods, FeatrueData, labels, test_size=0.2, randomseed=123)\n",
    "    # reg = LazyRegressor(ignore_warnings=False, custom_metric=None)\n",
    "    # models, predictions = reg.fit(X_train, X_test, y_train, y_test)\n",
    "    # print(models)\n",
    "    # best_model = models.iloc[0]\n",
    "    Rmse, R2, Mae = QuantitativeAnalysis(model, X_train, X_test, y_train, y_test ) \n",
    "    # model.save('model_savedmodel', save_format='tf')  \n",
    "    return Rmse, R2, Mae\n",
    "\n",
    "# 光谱定性分析\n",
    "def SpectralQualitativeAnalysis(data, label, ProcessMethods, FslecetedMethods, SetSplitMethods, model):\n",
    "\n",
    "    \"\"\"\n",
    "    :param data: shape (n_samples, n_features), 光谱数据\n",
    "    :param label: shape (n_samples, ), 光谱数据对应的标签(理化性质)\n",
    "    :param ProcessMethods: string, 预处理的方法, 具体可以看预处理模块\n",
    "    :param FslecetedMethods: string, 光谱波长筛选的方法, 提供UVE、SPA、Lars、Cars、Pca\n",
    "    :param SetSplitMethods : string, 划分数据集的方法, 提供随机划分、KS划分、SPXY划分\n",
    "    :param model : string, 定性分析模型, 包括ANN、PLS_DA、SVM、RF、CNN、SAE等，后续会不断补充完整\n",
    "    :return: acc： float, 分类准确率\n",
    "    \"\"\"\n",
    "\n",
    "    ProcesedData = Preprocessing(ProcessMethods, data)\n",
    "    FeatrueData, labels = SpctrumFeatureSelcet(FslecetedMethods, ProcesedData, label)\n",
    "    X_train, X_test, y_train, y_test = SetSplit(SetSplitMethods, FeatrueData, labels, test_size=0.2, randomseed=123)\n",
    "    acc = QualitativeAnalysis(model, X_train, X_test, y_train, y_test )\n",
    "    # model.save('model_savedmodel', save_format='tf')  \n",
    "    \n",
    "    return acc\n",
    "\n",
    "\n",
    "\n",
    "\n",
    "\n",
    "\n",
    "\n"
   ]
  },
  {
   "cell_type": "code",
   "execution_count": 5,
   "metadata": {},
   "outputs": [
    {
     "name": "stdout",
     "output_type": "stream",
     "text": [
      "xxxxxxxxxxxxxxxxxxxxxxxxxxxxxxxxxxxxx\n",
      "(655, 649)\n",
      "xxxxxxxxxxxxxxxxxxxxxxxxxxxxxxxxxxxxx\n",
      "yyyyyyyyyyyyyyyyyyyyyyyyyyyyyyyyyyyy\n",
      "(655, 2)\n",
      "yyyyyyyyyyyyyyyyyyyyyyyyyyyyyyyyyyyy\n",
      "The Pca RMSE:6.877878077468966 R2:-2.467305164558846, MAE:4.486753560951352 of result!\n"
     ]
    }
   ],
   "source": [
    "\n",
    "\n",
    "if __name__ == '__main__':\n",
    "\n",
    "    # ## 载入原始数据并可视化\n",
    "    # data1, label1 = LoadNirtest('Cls')\n",
    "    # #plotspc(data1, \"raw specturm\")\n",
    "    # # 光谱定性分析演示\n",
    "    # # 示意1: 预处理算法:MSC , 波长筛选算法: 不使用, 全波长建模, 数据集划分:随机划分, 定性分析模型: RF\n",
    "    # acc = SpectralQualitativeAnalysis(data1, label1, \"MSC\", \"Lars\", \"random\", \"PLS_DA\")\n",
    "    # print(\"The acc:{} of result!\".format(acc))\n",
    "    mode =\"dingliang\"\n",
    "    if(mode==\"dingliang\"):\n",
    "    ## 载入原始数据并可视化\n",
    "    # 光谱定量分析演示\n",
    "    # 示意1: 预处理算法:MSC , 波长筛选算法: Uve, 数据集划分:KS, 定性分量模型: SVR\n",
    "        data2, label2 = LoadNirtest('Rgs')\n",
    "        print(\"xxxxxxxxxxxxxxxxxxxxxxxxxxxxxxxxxxxxx\")  \n",
    "        print(data2.shape)\n",
    "        print(\"xxxxxxxxxxxxxxxxxxxxxxxxxxxxxxxxxxxxx\")\n",
    "        print(\"yyyyyyyyyyyyyyyyyyyyyyyyyyyyyyyyyyyy\")\n",
    "        print(label2.shape) \n",
    "        print(\"yyyyyyyyyyyyyyyyyyyyyyyyyyyyyyyyyyyy\")\n",
    "        # for  i,element in enumerate(data2):\n",
    "        #     if(i==5): break\n",
    "        #     else:\n",
    "        #         plt.plot([i for i in range(len(element))],element)\n",
    "                 \n",
    "        # # RMSE, R2, MAE = SpectralQuantitativeAnalysis(data2, label2, \"SG\", \"None\", \"ks\", \"CNN\")\n",
    "        # RMSE, R2, MAE = SpectralQuantitativeAnalysis(data2, label2, \"SG\", \"None\", \"ks\", \"CNN\")\n",
    "        RMSE, R2, MAE = SpectralQuantitativeAnalysis(data2, label2, \"SG\", \"None\", \"ks\", \"SVR\")\n",
    "\n",
    "        print(\"The Pca RMSE:{} R2:{}, MAE:{} of result!\".format(RMSE, R2, MAE))\n",
    "    else:\n",
    "        data1, label1 = LoadNirtest('Cls')\n",
    "        acc = SpectralQualitativeAnalysis(data1, label1, \"SNV\", \"None\", \"random\", \"ANN\")\n",
    "        print(\"The acc:{} of result!\".format(acc))\n",
    "\n",
    "\n",
    "\n",
    "\n",
    "\n"
   ]
  },
  {
   "cell_type": "code",
   "execution_count": 4,
   "metadata": {},
   "outputs": [],
   "source": [
    "from sklearn.preprocessing import MinMaxScaler\n",
    "# 创建MinMaxScaler对象\n",
    "scaler = MinMaxScaler()\n",
    "# 将数据进行归一化\n",
    "List_Data_Scaler=[]\n",
    "for  i,element in enumerate(data2):\n",
    "    meantemp = scaler.fit_transform(data2[i].reshape(-1,1))\n",
    "   \n",
    "    meantemp = scaler.inverse_transform(meantemp)\n",
    "    List_Data_Scaler.append(meantemp)"
   ]
  },
  {
   "cell_type": "code",
   "execution_count": 5,
   "metadata": {},
   "outputs": [
    {
     "data": {
      "image/png": "[encoded data removed]",
      "text/plain": [
       "<Figure size 640x480 with 1 Axes>"
      ]
     },
     "metadata": {},
     "output_type": "display_data"
    }
   ],
   "source": [
    "for  i,element in enumerate(List_Data_Scaler):\n",
    "    if(i==5): break\n",
    "    else:\n",
    "        plt.plot([i for i in range(len(element))],element)"
   ]
  },
  {
   "cell_type": "code",
   "execution_count": 6,
   "metadata": {},
   "outputs": [],
   "source": [
    "X_numpy_arr = np.array(List_Data_Scaler)\n",
    "Y_numpy_arr = np.array(label2)"
   ]
  },
  {
   "cell_type": "code",
   "execution_count": 7,
   "metadata": {},
   "outputs": [],
   "source": [
    "# 定义LSTM模型类\n",
    "import torch#一个深度学习的库Pytorch\n",
    "import torch.nn as nn#neural network,神经网络\n",
    "import torch.optim as optim#一个实现了各种优化算法的库\n",
    "class LSTMModel(nn.Module):\n",
    "    def __init__(self, input_size, hidden_size, num_layers, output_size):\n",
    "        super(LSTMModel, self).__init__()\n",
    "        self.hidden_size = hidden_size\n",
    "        self.num_layers = num_layers\n",
    "        self.lstm = nn.LSTM(input_size, hidden_size, num_layers, batch_first=True)\n",
    "        self.fc = nn.Linear(hidden_size, output_size)\n",
    "    \n",
    "    def forward(self, x):\n",
    "        h0 = torch.zeros(self.num_layers,x.size(0), self.hidden_size) # 初始化隐藏状态h0\n",
    "        c0 = torch.zeros(self.num_layers,x.size(0), self.hidden_size)  # 初始化记忆状态c0\n",
    "        #print(f\"x.shape:{x.shape},h0.shape:{h0.shape},c0.shape:{c0.shape}\")\n",
    "        out, _ = self.lstm(x, (h0, c0))  # LSTM前向传播\n",
    "        out = self.fc(out[:, -1, :])  # 取最后一个时间步的输出作为预测结果\n",
    "        return out"
   ]
  },
  {
   "cell_type": "code",
   "execution_count": 8,
   "metadata": {},
   "outputs": [],
   "source": [
    "#设置随机种子\n",
    "import random\n",
    "torch.backends.cudnn.deterministic = True#将cudnn框架中的随机数生成器设为确定性模式\n",
    "torch.backends.cudnn.benchmark = False#关闭CuDNN框架的自动寻找最优卷积算法的功能，以避免不同的算法对结果产生影响\n",
    "torch.manual_seed(42)\n",
    "np.random.seed(42)\n",
    "random.seed(42)"
   ]
  },
  {
   "cell_type": "code",
   "execution_count": 9,
   "metadata": {},
   "outputs": [],
   "source": [
    "test_X =X_numpy_arr\n",
    "test_y =Y_numpy_arr"
   ]
  },
  {
   "cell_type": "code",
   "execution_count": 10,
   "metadata": {},
   "outputs": [],
   "source": [
    "FeatrueData, labels = SpctrumFeatureSelcet(\"None\", test_X, test_y)\n",
    "X_train, X_test, y_train, y_test = SetSplit(\"random\", FeatrueData, labels, test_size=0.2, randomseed=123)\n"
   ]
  },
  {
   "cell_type": "code",
   "execution_count": 11,
   "metadata": {},
   "outputs": [
    {
     "name": "stdout",
     "output_type": "stream",
     "text": [
      "(396, 1058, 1)\n",
      "(396, 2)\n"
     ]
    }
   ],
   "source": [
    "print(X_train.shape)\n",
    "print(y_train.shape)"
   ]
  },
  {
   "cell_type": "code",
   "execution_count": 12,
   "metadata": {},
   "outputs": [
    {
     "name": "stdout",
     "output_type": "stream",
     "text": [
      "start\n",
      "epoch:0,train_loss:6.192606449127197,test_loss:6.429715156555176\n",
      "epoch:2,train_loss:6.1901326179504395,test_loss:6.399701118469238\n",
      "epoch:4,train_loss:6.303155899047852,test_loss:6.369341850280762\n",
      "epoch:6,train_loss:6.271815299987793,test_loss:6.338627338409424\n"
     ]
    }
   ],
   "source": [
    "\n",
    "test_X1=torch.Tensor(X_test)\n",
    "test_y1=torch.Tensor(y_test)\n",
    "train_X=torch.Tensor(X_train)\n",
    "train_y=torch.Tensor(y_train)\n",
    "# X_train, X_test, y_train, y_test = SetSplit(\"random\", FeatrueData, labels, test_size=0.2, randomseed=123)\n",
    "\n",
    "\n",
    "# 定义输入、隐藏状态和输出维度\n",
    "input_size = 1  # 输入特征维度\n",
    "hidden_size = 64  # LSTM隐藏状态维度\n",
    "num_layers = 5  # LSTM层数\n",
    "output_size = 1  # 输出维度（预测目标维度）\n",
    "\n",
    "# 创建LSTM模型实例\n",
    "model = LSTMModel(input_size, hidden_size, num_layers, output_size)\n",
    "\n",
    "#训练周期为500次\n",
    "num_epochs=500\n",
    "batch_size=64#一次训练的数量\n",
    "#优化器\n",
    "optimizer=optim.Adam(model.parameters(),lr=0.0001,betas=(0.5,0.999))\n",
    "#损失函数\n",
    "criterion=nn.MSELoss()\n",
    "\n",
    "train_losses=[]\n",
    "test_losses=[]\n",
    "\n",
    "print(f\"start\")\n",
    "\n",
    "for epoch in range(num_epochs):\n",
    "    \n",
    "    random_num=[i for i in range(len(train_X))]\n",
    "    np.random.shuffle(random_num)\n",
    "    \n",
    "    train_X=train_X[random_num]\n",
    "    train_y=train_y[random_num]\n",
    "    \n",
    "    train_X1=torch.Tensor(train_X[:batch_size])\n",
    "    train_y1=torch.Tensor(train_y[:batch_size])\n",
    "    \n",
    "    #训练\n",
    "    model.train()\n",
    "    #将梯度清空\n",
    "    optimizer.zero_grad()\n",
    "    #将数据放进去训练\n",
    "    output=model(train_X1)\n",
    "    #计算每次的损失函数\n",
    "    train_loss=criterion(output,train_y1)\n",
    "    #反向传播\n",
    "    train_loss.backward()\n",
    "    #优化器进行优化(梯度下降,降低误差)\n",
    "    optimizer.step()\n",
    "    \n",
    "    if epoch%2==0:\n",
    "        model.eval()\n",
    "        with torch.no_grad():\n",
    "            output=model(test_X1)\n",
    "            test_loss=criterion(output,test_y1)\n",
    "        train_losses.append(train_loss)\n",
    "        test_losses.append(test_loss)\n",
    "        print(f\"epoch:{epoch},train_loss:{train_loss},test_loss:{test_loss}\")"
   ]
  }
 ],
 "metadata": {
  "kernelspec": {
   "display_name": "base",
   "language": "python",
   "name": "python3"
  },
  "language_info": {
   "codemirror_mode": {
    "name": "ipython",
    "version": 3
   },
   "file_extension": ".py",
   "mimetype": "text/x-python",
   "name": "python",
   "nbconvert_exporter": "python",
   "pygments_lexer": "ipython3",
   "version": "3.11.4"
  }
 },
 "nbformat": 4,
 "nbformat_minor": 2
}
